{
 "cells": [
  {
   "cell_type": "code",
   "execution_count": 7,
   "metadata": {},
   "outputs": [
    {
     "name": "stdout",
     "output_type": "stream",
     "text": [
      "Accuracy:  0.9230769230769231\n",
      "              precision    recall  f1-score   support\n",
      "\n",
      "           1       1.00      1.00      1.00         8\n",
      "           2       1.00      1.00      1.00         4\n",
      "           3       0.00      0.00      0.00         1\n",
      "           4       1.00      1.00      1.00         3\n",
      "           5       0.67      1.00      0.80         2\n",
      "           6       0.80      1.00      0.89         4\n",
      "           7       1.00      0.75      0.86         4\n",
      "\n",
      "    accuracy                           0.92        26\n",
      "   macro avg       0.78      0.82      0.79        26\n",
      "weighted avg       0.91      0.92      0.91        26\n",
      "\n",
      "Confusion matrix\n",
      "[[8 0 0 0 0 0 0]\n",
      " [0 4 0 0 0 0 0]\n",
      " [0 0 0 0 1 0 0]\n",
      " [0 0 0 3 0 0 0]\n",
      " [0 0 0 0 2 0 0]\n",
      " [0 0 0 0 0 4 0]\n",
      " [0 0 0 0 0 1 3]]\n"
     ]
    },
    {
     "name": "stderr",
     "output_type": "stream",
     "text": [
      "/home/ds/.local/lib/python3.6/site-packages/sklearn/metrics/_classification.py:1245: UndefinedMetricWarning: Precision and F-score are ill-defined and being set to 0.0 in labels with no predicted samples. Use `zero_division` parameter to control this behavior.\n",
      "  _warn_prf(average, modifier, msg_start, len(result))\n",
      "/home/ds/.local/lib/python3.6/site-packages/sklearn/metrics/_classification.py:1245: UndefinedMetricWarning: Precision and F-score are ill-defined and being set to 0.0 in labels with no predicted samples. Use `zero_division` parameter to control this behavior.\n",
      "  _warn_prf(average, modifier, msg_start, len(result))\n",
      "/home/ds/.local/lib/python3.6/site-packages/sklearn/metrics/_classification.py:1245: UndefinedMetricWarning: Precision and F-score are ill-defined and being set to 0.0 in labels with no predicted samples. Use `zero_division` parameter to control this behavior.\n",
      "  _warn_prf(average, modifier, msg_start, len(result))\n"
     ]
    }
   ],
   "source": [
    "import pandas as pd\n",
    "import numpy as np\n",
    "data = pd.read_csv('zoo.csv',index_col=False)\n",
    "data\n",
    "\n",
    "x1=data['hair'].values\n",
    "x2=data['feathers'].values\n",
    "x3=data['eggs'].values\n",
    "x4=data['milk'].values\n",
    "x5=data['airborne'].values\n",
    "x6=data['aquatic'].values\n",
    "x7=data['predator'].values\n",
    "x8=data['toothed'].values\n",
    "x9=data['backbone'].values\n",
    "x10=data['breathes'].values\n",
    "x11=data['venomous'].values\n",
    "x12=data['fins'].values\n",
    "x13=data['legs'].values\n",
    "x14=data['tail'].values\n",
    "x15=data['domestic'].values\n",
    "x16=data['catsize'].values\n",
    "y =data['class_type'].values\n",
    "\n",
    "\n",
    "X = np.array(list(zip(x1,x2,x3,x4,x5,x6,x7,x8,x9,x10,x11,x12,x13,x14,x15,x16)))\n",
    "X\n",
    "\n",
    "Y=y\n",
    "Y\n",
    "\n",
    "from sklearn.model_selection import train_test_split\n",
    "X_train, X_test, y_train, y_test = train_test_split(X,Y,test_size=0.25)\n",
    "\n",
    "\n",
    "from sklearn.metrics import classification_report,confusion_matrix,accuracy_score\n",
    "from sklearn import tree\n",
    "\n",
    "decision = tree.DecisionTreeClassifier(criterion='gini')\n",
    "decision.fit(X_train,y_train)\n",
    "\n",
    "y_predict=decision.predict(X_test)\n",
    "y_score = accuracy_score(y_test,y_predict)\n",
    "print('Accuracy: ', y_score)\n",
    "y_test\n",
    "\n",
    "print(classification_report(y_test,y_predict))\n",
    "\n",
    "print(\"Confusion matrix\")\n",
    "print(confusion_matrix(y_test,y_predict))"
   ]
  },
  {
   "cell_type": "code",
   "execution_count": null,
   "metadata": {},
   "outputs": [],
   "source": []
  },
  {
   "cell_type": "code",
   "execution_count": null,
   "metadata": {},
   "outputs": [],
   "source": []
  },
  {
   "cell_type": "code",
   "execution_count": null,
   "metadata": {},
   "outputs": [],
   "source": []
  }
 ],
 "metadata": {
  "kernelspec": {
   "display_name": "Python 3",
   "language": "python",
   "name": "python3"
  },
  "language_info": {
   "codemirror_mode": {
    "name": "ipython",
    "version": 3
   },
   "file_extension": ".py",
   "mimetype": "text/x-python",
   "name": "python",
   "nbconvert_exporter": "python",
   "pygments_lexer": "ipython3",
   "version": "3.6.9"
  }
 },
 "nbformat": 4,
 "nbformat_minor": 2
}
