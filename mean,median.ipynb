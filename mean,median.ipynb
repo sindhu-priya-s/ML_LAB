{
 "cells": [
  {
   "cell_type": "code",
   "execution_count": 1,
   "metadata": {},
   "outputs": [
    {
     "name": "stdout",
     "output_type": "stream",
     "text": [
      "Mean is 3.5\n"
     ]
    }
   ],
   "source": [
    "#python program to find mean\n",
    "\n",
    "numbers=[1,2,3,4,5,6]\n",
    "n=len(numbers)\n",
    "sums=sum(numbers)\n",
    "mean=sums/n\n",
    "print(\"Mean is \"+str(mean))"
   ]
  },
  {
   "cell_type": "code",
   "execution_count": 2,
   "metadata": {},
   "outputs": [
    {
     "name": "stdout",
     "output_type": "stream",
     "text": [
      "Median is 3.5\n"
     ]
    }
   ],
   "source": [
    "#finding median\n",
    "numbers=[1,2,3,4,5,6]\n",
    "n=len(numbers)\n",
    "numbers.sort()\n",
    "\n",
    "if n%2==0:\n",
    "    median1=numbers[n//2]\n",
    "    median2=numbers[n//2-1]\n",
    "    median=(median1+median2)/2\n",
    "else:\n",
    "    median=numbers[n//2] \n",
    "print(\"Median is \"+str(median))\n",
    "    "
   ]
  },
  {
   "cell_type": "code",
   "execution_count": 3,
   "metadata": {},
   "outputs": [
    {
     "name": "stdout",
     "output_type": "stream",
     "text": [
      "Mode is / are: 5\n"
     ]
    }
   ],
   "source": [
    "# mode of elements\n",
    "from collections import Counter\n",
    "# list of elements to calculate mode\n",
    "n_num = [1, 2, 3, 4, 5, 5]\n",
    "n = len(n_num)\n",
    "data = Counter(n_num)\n",
    "get_mode = dict(data)\n",
    "mode = [k for k, v in get_mode.items() if v == max(list(data.values()))]\n",
    "if len(mode) == n:\n",
    "    get_mode = \"No mode found\"\n",
    "else:\n",
    "    get_mode = \"Mode is / are: \" + ', '.join(map(str, mode))\n",
    "      \n",
    "print(get_mode)\n"
   ]
  },
  {
   "cell_type": "code",
   "execution_count": 4,
   "metadata": {},
   "outputs": [
    {
     "name": "stdout",
     "output_type": "stream",
     "text": [
      "variance is 13.888888888888891\n",
      "standard deviation is 3.72677996249965\n"
     ]
    }
   ],
   "source": [
    "#variance\n",
    "test_list = [6, 7, 3, 9, 10, 15]\n",
    "mean = sum(test_list) / len(test_list)\n",
    "variance = sum((i - mean) ** 2 for i in test_list) / len(test_list)\n",
    "\n",
    "print(\"variance is \"+str(variance))\n",
    "sd=variance**0.5\n",
    "print(\"standard deviation is \"+str(sd))"
   ]
  },
  {
   "cell_type": "code",
   "execution_count": 5,
   "metadata": {},
   "outputs": [
    {
     "name": "stdout",
     "output_type": "stream",
     "text": [
      "value  : Normalizes value\n",
      "\n",
      "11 : 0.004288460590525952\n",
      "23.4 : 0.009382034471993558\n",
      "2435 : 1.0\n",
      "0.56 : 0.0\n",
      "234.55 : 0.09611656068746817\n"
     ]
    }
   ],
   "source": [
    "#normalization\n",
    "n_list=[11,23.4,2435,0.56,234.55]\n",
    "list_max=max(n_list)\n",
    "list_min=min(n_list)\n",
    "print(\"value  : Normalizes value\\n\")\n",
    "for x in n_list:\n",
    "    norm=(x-list_min)/(list_max-list_min)\n",
    "    print(\"{} : {}\".format(x,norm))\n",
    "    "
   ]
  },
  {
   "cell_type": "code",
   "execution_count": 6,
   "metadata": {},
   "outputs": [
    {
     "name": "stdout",
     "output_type": "stream",
     "text": [
      "value  : standardization value\n",
      "\n",
      "0.53 : -1.1758091121054897\n",
      "1.3 : -0.5009969260275565\n",
      "1 : -0.7639107647592188\n",
      "1.9 : 0.0248307514357679\n",
      "2.5 : 0.5506584288990926\n",
      "4 : 1.8652276225574036\n"
     ]
    }
   ],
   "source": [
    "#standardization\n",
    "import math\n",
    "a=[0.53, 1.3,1, 1.9, 2.5,4]\n",
    "\n",
    "mean=sum(a)/len(a)\n",
    "variance = sum((i - mean) ** 2 for i in a) / len(a)\n",
    "sd=variance**0.5\n",
    "\n",
    "print(\"value  : standardization value\\n\")\n",
    "for x in a:\n",
    "    s=(x-mean)/sd\n",
    "    print(\"{} : {}\".format(x,s))"
   ]
  },
  {
   "cell_type": "code",
   "execution_count": null,
   "metadata": {},
   "outputs": [],
   "source": []
  }
 ],
 "metadata": {
  "kernelspec": {
   "display_name": "Python 3",
   "language": "python",
   "name": "python3"
  },
  "language_info": {
   "codemirror_mode": {
    "name": "ipython",
    "version": 3
   },
   "file_extension": ".py",
   "mimetype": "text/x-python",
   "name": "python",
   "nbconvert_exporter": "python",
   "pygments_lexer": "ipython3",
   "version": "3.6.9"
  }
 },
 "nbformat": 4,
 "nbformat_minor": 2
}
